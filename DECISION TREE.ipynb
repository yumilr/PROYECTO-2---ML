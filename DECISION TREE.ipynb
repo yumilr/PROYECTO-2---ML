{
 "cells": [
  {
   "cell_type": "markdown",
   "metadata": {},
   "source": [
    "## Carga de Datos"
   ]
  },
  {
   "cell_type": "code",
   "execution_count": 1,
   "metadata": {},
   "outputs": [
    {
     "name": "stdout",
     "output_type": "stream",
     "text": [
      "Collecting pyts\n",
      "  Downloading pyts-0.13.0-py3-none-any.whl (2.5 MB)\n",
      "\u001b[K     |████████████████████████████████| 2.5 MB 15.7 MB/s eta 0:00:01\n",
      "\u001b[?25hCollecting numpy>=1.22.4\n",
      "  Downloading numpy-1.24.4-cp38-cp38-manylinux_2_17_x86_64.manylinux2014_x86_64.whl (17.3 MB)\n",
      "\u001b[K     |████████████████████████████████| 17.3 MB 83.8 MB/s eta 0:00:01\n",
      "\u001b[?25hCollecting joblib>=1.1.1\n",
      "  Downloading joblib-1.4.2-py3-none-any.whl (301 kB)\n",
      "\u001b[K     |████████████████████████████████| 301 kB 81.0 MB/s eta 0:00:01\n",
      "\u001b[?25hCollecting scipy>=1.8.1\n",
      "  Downloading scipy-1.10.1-cp38-cp38-manylinux_2_17_x86_64.manylinux2014_x86_64.whl (34.5 MB)\n",
      "\u001b[K     |████████████████████████████████| 34.5 MB 1.3 MB/s eta 0:00:0101\n",
      "\u001b[?25hCollecting numba>=0.55.2\n",
      "  Downloading numba-0.58.1-cp38-cp38-manylinux2014_x86_64.manylinux_2_17_x86_64.whl (3.7 MB)\n",
      "\u001b[K     |████████████████████████████████| 3.7 MB 97.7 MB/s eta 0:00:01\n",
      "\u001b[?25hCollecting scikit-learn>=1.2.0\n",
      "  Downloading scikit_learn-1.3.2-cp38-cp38-manylinux_2_17_x86_64.manylinux2014_x86_64.whl (11.1 MB)\n",
      "\u001b[K     |████████████████████████████████| 11.1 MB 87.4 MB/s eta 0:00:01\n",
      "\u001b[?25hRequirement already satisfied: importlib-metadata; python_version < \"3.9\" in /home/jlr/.local/lib/python3.8/site-packages (from numba>=0.55.2->pyts) (4.6.1)\n",
      "Collecting llvmlite<0.42,>=0.41.0dev0\n",
      "  Downloading llvmlite-0.41.1-cp38-cp38-manylinux_2_17_x86_64.manylinux2014_x86_64.whl (43.6 MB)\n",
      "\u001b[K     |████████████████████████████████| 43.6 MB 90.2 MB/s eta 0:00:01\n",
      "\u001b[?25hRequirement already satisfied: threadpoolctl>=2.0.0 in /home/jlr/.local/lib/python3.8/site-packages (from scikit-learn>=1.2.0->pyts) (2.2.0)\n",
      "Requirement already satisfied: zipp>=0.5 in /usr/lib/python3/dist-packages (from importlib-metadata; python_version < \"3.9\"->numba>=0.55.2->pyts) (1.0.0)\n",
      "Installing collected packages: numpy, joblib, scipy, llvmlite, numba, scikit-learn, pyts\n",
      "  Attempting uninstall: numpy\n",
      "    Found existing installation: numpy 1.20.3\n",
      "    Uninstalling numpy-1.20.3:\n",
      "      Successfully uninstalled numpy-1.20.3\n",
      "  Attempting uninstall: joblib\n",
      "    Found existing installation: joblib 1.0.1\n",
      "    Uninstalling joblib-1.0.1:\n",
      "      Successfully uninstalled joblib-1.0.1\n",
      "  Attempting uninstall: scipy\n",
      "    Found existing installation: scipy 1.7.1\n",
      "    Uninstalling scipy-1.7.1:\n",
      "      Successfully uninstalled scipy-1.7.1\n",
      "  Attempting uninstall: scikit-learn\n",
      "    Found existing installation: scikit-learn 0.24.2\n",
      "    Uninstalling scikit-learn-0.24.2:\n",
      "      Successfully uninstalled scikit-learn-0.24.2\n",
      "Successfully installed joblib-1.4.2 llvmlite-0.41.1 numba-0.58.1 numpy-1.24.4 pyts-0.13.0 scikit-learn-1.3.2 scipy-1.10.1\n",
      "Note: you may need to restart the kernel to use updated packages.\n",
      "Collecting h5py\n",
      "  Downloading h5py-3.11.0-cp38-cp38-manylinux_2_17_x86_64.manylinux2014_x86_64.whl (5.3 MB)\n",
      "\u001b[K     |████████████████████████████████| 5.3 MB 1.3 MB/s eta 0:00:01\n",
      "\u001b[?25hRequirement already satisfied: numpy>=1.17.3 in /home/jlr/.local/lib/python3.8/site-packages (from h5py) (1.24.4)\n",
      "Installing collected packages: h5py\n",
      "Successfully installed h5py-3.11.0\n",
      "Note: you may need to restart the kernel to use updated packages.\n"
     ]
    }
   ],
   "source": [
    "# Instalar\n",
    "%pip install pyts\n",
    "%pip install h5py"
   ]
  },
  {
   "cell_type": "code",
   "execution_count": 2,
   "metadata": {},
   "outputs": [],
   "source": [
    "import h5py\n",
    "import numpy as np\n",
    "import pandas as pd\n",
    "from collections import Counter\n",
    "import seaborn as sns\n",
    "import matplotlib.pyplot as plt\n",
    "from sklearn.metrics import classification_report, accuracy_score, confusion_matrix, f1_score\n",
    "from sklearn.model_selection import train_test_split\n",
    "from sklearn.metrics import accuracy_score\n",
    "from queue import PriorityQueue"
   ]
  },
  {
   "cell_type": "code",
   "execution_count": 3,
   "metadata": {},
   "outputs": [],
   "source": [
    "def load_h5_to_dataframe(file_path):\n",
    "    with h5py.File(file_path, \"r\") as f:\n",
    "\n",
    "        dataframes = []\n",
    "        for key in list(f.keys()):\n",
    "\n",
    "            dataset = np.array(f[key])\n",
    "\n",
    "            if dataset.ndim > 1:\n",
    "                num_features = dataset.shape[1]\n",
    "                columns = [f\"{key}_{i}\" for i in range(num_features)]\n",
    "                df = pd.DataFrame(dataset, columns=columns)\n",
    "            else:\n",
    "                df = pd.DataFrame(dataset, columns=[key])\n",
    "\n",
    "            dataframes.append(df)\n",
    "\n",
    "        combined_df = pd.concat(dataframes, axis=1)\n",
    "        return combined_df"
   ]
  },
  {
   "cell_type": "markdown",
   "metadata": {},
   "source": [
    "## Particionamiento de datos"
   ]
  },
  {
   "cell_type": "code",
   "execution_count": 4,
   "metadata": {},
   "outputs": [],
   "source": [
    "train_path = 'train.h5'\n",
    "test_path = 'test.h5'\n",
    "\n",
    "train_data = load_h5_to_dataframe(train_path)\n",
    "test_data = load_h5_to_dataframe(test_path)"
   ]
  },
  {
   "cell_type": "code",
   "execution_count": 18,
   "metadata": {},
   "outputs": [],
   "source": [
    "X = train_data.drop(columns=['y'])\n",
    "Y = train_data['y']\n",
    "\n",
    "X_train, X_test, Y_train, Y_test = train_test_split(X, Y, random_state=104, test_size=0.30, shuffle=True)"
   ]
  },
  {
   "cell_type": "markdown",
   "metadata": {},
   "source": [
    "# ÁRBOL DE DECISIÓN"
   ]
  },
  {
   "cell_type": "code",
   "execution_count": 15,
   "metadata": {},
   "outputs": [],
   "source": [
    "from sklearn.model_selection import train_test_split\n",
    "from sklearn.metrics import confusion_matrix, f1_score"
   ]
  },
  {
   "cell_type": "code",
   "execution_count": 14,
   "metadata": {},
   "outputs": [],
   "source": [
    "# Nodo del Árbol de Decisión\n",
    "class Nodo:\n",
    "    def __init__(self, index=None, threshold=None, left=None, right=None, value=None):\n",
    "        self.index = index\n",
    "        self.threshold = threshold\n",
    "        self.left = left\n",
    "        self.right = right\n",
    "        self.value = value\n",
    "\n",
    "    def IsTerminal(self, Y):\n",
    "        return len(set(Y)) == 1\n",
    "\n",
    "    def Entropy(self, Y):\n",
    "        histogram = Counter(Y)\n",
    "        probabilities = [freq / len(Y) for freq in histogram.values()]\n",
    "        return -sum(p * np.log2(p) for p in probabilities if p > 0)\n",
    "\n",
    "    def BestSplit(self, X, Y):\n",
    "        best_gain = -1\n",
    "        best_feature, best_threshold = None, None\n",
    "        num_samples, num_features = X.shape\n",
    "\n",
    "        current_entropy = self.Entropy(Y)\n",
    "\n",
    "        for feature_index in range(num_features):\n",
    "            thresholds = set(X[:, feature_index])\n",
    "            for threshold in thresholds:\n",
    "                left_mask = X[:, feature_index] <= threshold\n",
    "                right_mask = X[:, feature_index] > threshold\n",
    "                left_y, right_y = Y[left_mask], Y[right_mask]\n",
    "                if len(left_y) == 0 or len(right_y) == 0:\n",
    "                    continue\n",
    "\n",
    "                left_entropy = self.Entropy(left_y)\n",
    "                right_entropy = self.Entropy(right_y)\n",
    "                p_left = len(left_y) / len(Y)\n",
    "                gain = current_entropy - (p_left * left_entropy + (1 - p_left) * right_entropy)\n",
    "\n",
    "                if gain > best_gain:\n",
    "                    best_gain = gain\n",
    "                    best_feature = feature_index\n",
    "                    best_threshold = threshold\n",
    "\n",
    "        return best_feature, best_threshold\n",
    "\n",
    "\n",
    "class DT:\n",
    "    def __init__(self, max_depth=None, min_samples_split=2, min_samples_leaf=1):\n",
    "        self.m_Root = None\n",
    "        self.max_depth = max_depth\n",
    "        self.min_samples_split = min_samples_split\n",
    "        self.min_samples_leaf = min_samples_leaf\n",
    "\n",
    "    def create_DT(self, X, Y, depth=0):\n",
    "        self.m_Root = self._build_tree(X, Y, depth)\n",
    "\n",
    "    def _build_tree(self, X, Y, depth):\n",
    "        node = Nodo()\n",
    "        if node.IsTerminal(Y) or depth == self.max_depth or len(Y) < self.min_samples_split:\n",
    "            node.value = Counter(Y).most_common(1)[0][0]\n",
    "            return node\n",
    "\n",
    "        best_feature, best_threshold = self.Find_Best_Split(X, Y)\n",
    "        if best_feature is None:\n",
    "            node.value = Counter(Y).most_common(1)[0][0]\n",
    "            return node\n",
    "\n",
    "        left_mask = X[:, best_feature] <= best_threshold\n",
    "        right_mask = X[:, best_feature] > best_threshold\n",
    "        left_X, right_X = X[left_mask], X[right_mask]\n",
    "        left_Y, right_Y = Y[left_mask], Y[right_mask]\n",
    "\n",
    "        if len(left_Y) < self.min_samples_leaf or len(right_Y) < self.min_samples_leaf:\n",
    "            node.value = Counter(Y).most_common(1)[0][0]\n",
    "            return node\n",
    "\n",
    "        node.index = best_feature\n",
    "        node.threshold = best_threshold\n",
    "        node.left = self._build_tree(left_X, left_Y, depth + 1)\n",
    "        node.right = self._build_tree(right_X, right_Y, depth + 1)\n",
    "\n",
    "        return node\n",
    "\n",
    "    def Find_Best_Split(self, X, Y):\n",
    "        node = Nodo()\n",
    "        return node.BestSplit(X, Y)\n",
    "\n",
    "    def _predict_one(self, x):\n",
    "        node = self.m_Root\n",
    "        while node.value is None:\n",
    "            if x[node.index] <= node.threshold:\n",
    "                node = node.left\n",
    "            else:\n",
    "                node = node.right\n",
    "        return node.value\n",
    "\n",
    "    def predict(self, X):\n",
    "        return np.array([self._predict_one(x) for x in X])\n",
    "\n",
    "# Función para predecir\n",
    "def dt_predict(X, Y, X_new):\n",
    "    print('Building Model')\n",
    "    tree_model = DT()\n",
    "\n",
    "    # Entrenar el modelo\n",
    "    print('Training Model')\n",
    "    tree_model.create_DT(X, Y)\n",
    "\n",
    "    print('Making Predictions')\n",
    "    # Realizar las predicciones\n",
    "    Y_pred = np.array([tree_model._predict_one(x) for x in X_new])\n",
    "\n",
    "    return Y_pred"
   ]
  },
  {
   "cell_type": "markdown",
   "metadata": {},
   "source": [
    "### Reducción de dimensionalidad"
   ]
  },
  {
   "cell_type": "code",
   "execution_count": 28,
   "metadata": {},
   "outputs": [],
   "source": [
    "from sklearn.decomposition import PCA\n",
    "\n",
    "pca = PCA(n_components=30)\n",
    "X_train_pca = pca.fit_transform(X_train)\n",
    "X_test_pca = pca.transform(X_test)"
   ]
  },
  {
   "cell_type": "markdown",
   "metadata": {},
   "source": [
    "### Entrenando modelo"
   ]
  },
  {
   "cell_type": "code",
   "execution_count": null,
   "metadata": {},
   "outputs": [],
   "source": [
    "# Crear y entrenar el modelo\n",
    "tree_model = DT(max_depth=10, min_samples_split=10, min_samples_leaf=5)\n",
    "tree_model.create_DT(X_train_pca, Y_train)\n",
    "\n",
    "# Hacer predicciones\n",
    "Y_pred = tree_model.predict(X_test_pca)\n",
    "\n",
    "# Dividir en conjunto de entrenamiento y prueba\n",
    "X_train, X_test, Y_train, Y_test = train_test_split(X, Y, test_size=0.2, random_state=42)"
   ]
  },
  {
   "cell_type": "markdown",
   "metadata": {},
   "source": [
    "### Matriz de Confusión + F1 Score"
   ]
  },
  {
   "cell_type": "code",
   "execution_count": 24,
   "metadata": {},
   "outputs": [
    {
     "name": "stdout",
     "output_type": "stream",
     "text": [
      "Confusion Matrix:\n",
      " [[200  26  18   0   3   0]\n",
      " [ 21 148  29   0   2   0]\n",
      " [ 25  45 127   5   4   0]\n",
      " [  0   0   0 234  27   1]\n",
      " [  3   3   1  18 251   0]\n",
      " [  0   0   1   3   1 275]]\n",
      "F1 Score: 0.8247710265061584\n"
     ]
    }
   ],
   "source": [
    "conf_matrix = confusion_matrix(Y_test, Y_pred)\n",
    "f1 = f1_score(Y_test, Y_pred, average=\"macro\")\n",
    "\n",
    "print(\"Confusion Matrix:\\n\", conf_matrix)\n",
    "print(\"F1 Score:\", f1)"
   ]
  },
  {
   "cell_type": "markdown",
   "metadata": {},
   "source": [
    "### Encontrando los mejores hiperparámetros"
   ]
  },
  {
   "cell_type": "code",
   "execution_count": 30,
   "metadata": {},
   "outputs": [
    {
     "name": "stdout",
     "output_type": "stream",
     "text": [
      "MAX DEPTH: 8\n",
      "MIN SAMPLES SPLIT: 2\n",
      "MIN SAMPLES LEAF: 2\n",
      "MIN SAMPLES LEAF: 4\n",
      "MIN SAMPLES SPLIT: 4\n",
      "MIN SAMPLES LEAF: 2\n",
      "MIN SAMPLES LEAF: 4\n",
      "MAX DEPTH: 10\n",
      "MIN SAMPLES SPLIT: 2\n",
      "MIN SAMPLES LEAF: 2\n",
      "MIN SAMPLES LEAF: 4\n",
      "MIN SAMPLES SPLIT: 4\n",
      "MIN SAMPLES LEAF: 2\n",
      "MIN SAMPLES LEAF: 4\n",
      "MAX DEPTH: 12\n",
      "MIN SAMPLES SPLIT: 2\n",
      "MIN SAMPLES LEAF: 2\n",
      "MIN SAMPLES LEAF: 4\n",
      "MIN SAMPLES SPLIT: 4\n",
      "MIN SAMPLES LEAF: 2\n",
      "MIN SAMPLES LEAF: 4\n",
      "Mejores parámetros: {'max_depth': 12, 'min_samples_split': 2, 'min_samples_leaf': 2}\n",
      "Mejor F1 Score: 0.8508759490820408\n"
     ]
    }
   ],
   "source": [
    "# CODE\n",
    "best_f1 = 0\n",
    "best_params = {}\n",
    "\n",
    "for max_depth in range(8, 13, 2):\n",
    "    print(\"MAX DEPTH:\", max_depth)\n",
    "    for min_samples_split in range(2, 5, 2):\n",
    "        print(\"MIN SAMPLES SPLIT:\", min_samples_split)\n",
    "        for min_samples_leaf in range(2, 5, 2):\n",
    "            print(\"MIN SAMPLES LEAF:\", min_samples_leaf)\n",
    "            tree_model = DT(max_depth=max_depth, min_samples_split=min_samples_split, min_samples_leaf=min_samples_leaf)\n",
    "            tree_model.create_DT(X_train_pca, Y_train)\n",
    "            Y_pred = tree_model.predict(X_test_pca)\n",
    "            f1 = f1_score(Y_test, Y_pred, average=\"macro\")\n",
    "            \n",
    "            if f1 > best_f1:\n",
    "                best_f1 = f1\n",
    "                best_params = {\n",
    "                    \"max_depth\": max_depth,\n",
    "                    \"min_samples_split\": min_samples_split,\n",
    "                    \"min_samples_leaf\": min_samples_leaf\n",
    "                }\n",
    "\n",
    "print(\"Mejores parámetros:\", best_params)\n",
    "print(\"Mejor F1 Score:\", best_f1)\n"
   ]
  },
  {
   "cell_type": "markdown",
   "metadata": {},
   "source": [
    "## Aplicando mejores hiperparámetros"
   ]
  },
  {
   "cell_type": "code",
   "execution_count": 31,
   "metadata": {},
   "outputs": [],
   "source": [
    "# Crear y entrenar el modelo\n",
    "tree_model = DT(max_depth=12, min_samples_split=2, min_samples_leaf=2)\n",
    "tree_model.create_DT(X_train_pca, Y_train)\n",
    "\n",
    "# Hacer predicciones\n",
    "Y_pred = tree_model.predict(X_test_pca)\n",
    "\n",
    "# Dividir en conjunto de entrenamiento y prueba\n",
    "X_train, X_test, Y_train, Y_test = train_test_split(X, Y, test_size=0.2, random_state=42)"
   ]
  },
  {
   "cell_type": "markdown",
   "metadata": {},
   "source": [
    "### Graficando matriz de confusión y midiendo accuracy"
   ]
  },
  {
   "cell_type": "code",
   "execution_count": 33,
   "metadata": {},
   "outputs": [
    {
     "name": "stdout",
     "output_type": "stream",
     "text": [
      "Accuracy: 0.8660774983004759\n"
     ]
    },
    {
     "data": {
      "image/png": "[encoded data removed]",
      "text/plain": [
       "<Figure size 576x432 with 1 Axes>"
      ]
     },
     "metadata": {
      "needs_background": "light"
     },
     "output_type": "display_data"
    }
   ],
   "source": [
    "# visualize matrix\n",
    "import seaborn as sns\n",
    "import matplotlib.pyplot as plt\n",
    "from sklearn.metrics import confusion_matrix\n",
    "from sklearn.metrics import accuracy_score\n",
    "\n",
    "# Generar la matriz de confusión\n",
    "conf_matrix = confusion_matrix(Y_test, Y_pred)\n",
    "\n",
    "accuracy = accuracy_score(Y_test, Y_pred)\n",
    "print(f'Accuracy: {accuracy}')\n",
    "\n",
    "# Visualización de la matriz de confusión\n",
    "plt.figure(figsize=(8, 6))\n",
    "sns.heatmap(conf_matrix, annot=True, fmt='d', cmap='Blues', cbar=False)\n",
    "plt.title('Matriz de Confusión')\n",
    "plt.xlabel('Predicted')\n",
    "plt.ylabel('Actual')\n",
    "plt.show()\n",
    "\n"
   ]
  }
 ],
 "metadata": {
  "kernelspec": {
   "display_name": "Python 3",
   "language": "python",
   "name": "python3"
  },
  "language_info": {
   "codemirror_mode": {
    "name": "ipython",
    "version": 3
   },
   "file_extension": ".py",
   "mimetype": "text/x-python",
   "name": "python",
   "nbconvert_exporter": "python",
   "pygments_lexer": "ipython3",
   "version": "3.8.10"
  }
 },
 "nbformat": 4,
 "nbformat_minor": 2
}
